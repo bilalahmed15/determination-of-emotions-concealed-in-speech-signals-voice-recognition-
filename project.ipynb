{
 "cells": [
  {
   "cell_type": "code",
   "execution_count": 1,
   "metadata": {},
   "outputs": [],
   "source": [
    "import librosa\n",
    "from librosa import display\n",
    "import numpy as np\n",
    "import matplotlib.pyplot as plt\n",
    "import pandas as pd\n",
    "import glob\n"
   ]
  },
  {
   "cell_type": "code",
   "execution_count": 2,
   "metadata": {},
   "outputs": [],
   "source": [
    "def audioFileFunc(folderName,y_TestTrain,fName):\n",
    "    Files = glob.glob(folderName)\n",
    "    featureList = []\n",
    "    for i in range(len(Files)):\n",
    "        x,sr = librosa.load(Files[i])\n",
    "        #features mean\n",
    "        MeanMfcc = np.mean(librosa.feature.mfcc(y=x,sr=sr,n_mfcc=47),axis=1)\n",
    "                \n",
    "        MeanMelSpectrum = np.mean(librosa.feature.melspectrogram(y=x,sr=sr),axis=1)\n",
    "        \n",
    "        MeanChroma = np.mean(librosa.feature.chroma_stft(x, sr=sr),axis=1)\n",
    "\n",
    "        S = np.abs(librosa.stft(x))\n",
    "        MeanContrast = np.mean(librosa.feature.spectral_contrast(S=S, sr=sr),axis=1)\n",
    "        #labels appending\n",
    "        y_TestTrain.append(fName)\n",
    "        #feature\n",
    "        featureList.append(np.hstack((MeanMfcc,MeanMelSpectrum,MeanChroma,\n",
    "                                    MeanContrast)))\n",
    "        \n",
    "    return featureList"
   ]
  },
  {
   "cell_type": "markdown",
   "metadata": {},
   "source": [
    "## Reading Files"
   ]
  },
  {
   "cell_type": "code",
   "execution_count": 3,
   "metadata": {},
   "outputs": [],
   "source": [
    "Y_Train = []\n",
    "\n",
    "temp = []\n",
    "temp = audioFileFunc('./SERDataset/Train/Neutral/*.wav',Y_Train,\"Neutral\")\n",
    "X_Train = pd.DataFrame(temp)\n",
    "temp = pd.DataFrame(audioFileFunc('./SERDataset/Train/Happy/*.wav',Y_Train,\"Happy\"))\n",
    "X_Train = X_Train.append(temp)\n",
    "temp = pd.DataFrame(audioFileFunc('./SERDataset/Train/Sad/*.wav',Y_Train,\"Sad\"))\n",
    "X_Train = X_Train.append(temp)\n",
    "temp = pd.DataFrame(audioFileFunc('./SERDataset/Train/Angry/*.wav',Y_Train,\"Angry\"))\n",
    "X_Train = X_Train.append(temp)\n"
   ]
  },
  {
   "cell_type": "code",
   "execution_count": 4,
   "metadata": {},
   "outputs": [],
   "source": [
    "Y_Test = []\n",
    "\n",
    "temp = []\n",
    "temp = audioFileFunc('./SERDataset/Test/Neutral/*.wav',Y_Test,\"Neutral\")\n",
    "X_Test = pd.DataFrame(temp)\n",
    "temp = pd.DataFrame(audioFileFunc('./SERDataset/Test/Happy/*.wav',Y_Test,\"Happy\"))\n",
    "X_Test = X_Test.append(temp)\n",
    "temp = pd.DataFrame(audioFileFunc('./SERDataset/Test/Sad/*.wav',Y_Test,\"Sad\"))\n",
    "X_Test = X_Test.append(temp)\n",
    "temp = pd.DataFrame(audioFileFunc('./SERDataset/Test/Angry/*.wav',Y_Test,\"Angry\"))\n",
    "X_Test = X_Test.append(temp)\n"
   ]
  },
  {
   "cell_type": "code",
   "execution_count": 5,
   "metadata": {},
   "outputs": [
    {
     "name": "stdout",
     "output_type": "stream",
     "text": [
      "X_Train shape: (385, 194)\n",
      "Y_Train shape: (385,)\n",
      "X_Test shape: (60, 194)\n",
      "Y_Test shape: (60,)\n"
     ]
    }
   ],
   "source": [
    "from sklearn import preprocessing\n",
    "label_encoder = preprocessing.LabelEncoder()\n",
    "Y_Train= (label_encoder.fit_transform(Y_Train))\n",
    "Y_Test= (label_encoder.fit_transform(Y_Test))\n",
    "print('X_Train shape:',X_Train.shape)\n",
    "print('Y_Train shape:',Y_Train.shape)\n",
    "print('X_Test shape:',X_Test.shape)\n",
    "print('Y_Test shape:',Y_Test.shape)"
   ]
  },
  {
   "cell_type": "markdown",
   "metadata": {},
   "source": [
    "## Data Visualization"
   ]
  },
  {
   "cell_type": "code",
   "execution_count": 6,
   "metadata": {},
   "outputs": [],
   "source": [
    "Xdata = []\n",
    "hlf1 = []\n",
    "hlf2 = []\n",
    "labels= []\n",
    "for i in range(len(X_Train)):\n",
    "    hlf1.append(np.mean(X_Train.values[i][:97]))\n",
    "    hlf2.append(np.mean(X_Train.values[i][97:]))\n",
    "    labels.append(Y_Train[i])\n",
    "for i in range(len(X_Test)):\n",
    "    hlf1.append(np.mean(X_Test.values[i][:97]))\n",
    "    hlf2.append(np.mean(X_Test.values[i][97:]))\n",
    "    labels.append(Y_Test[i])\n",
    "hlf1=np.array(hlf1)\n",
    "hlf2=np.array(hlf2)\n",
    "labels=np.array(labels)\n",
    "newLabels = []\n",
    "for i in range(len(labels)):\n",
    "    newLabels.append('')\n",
    "for i in range(len(labels)):\n",
    "    if labels[i]==0:\n",
    "        newLabels[i]='Angry'\n",
    "    if labels[i]==1:\n",
    "        newLabels[i]='Happy'\n",
    "    if labels[i]==2:\n",
    "        newLabels[i]='Neutral'\n",
    "    if labels[i]==3:\n",
    "        newLabels[i]='Sad'"
   ]
  },
  {
   "cell_type": "code",
   "execution_count": 7,
   "metadata": {},
   "outputs": [
    {
     "data": {
      "image/png": "[encoded data removed]",
      "text/plain": [
       "<Figure size 577x504 with 1 Axes>"
      ]
     },
     "metadata": {
      "needs_background": "light"
     },
     "output_type": "display_data"
    }
   ],
   "source": [
    "import seaborn as sns\n",
    "data = { 'SHalf':hlf1,'FHalf':hlf2,'Labels':newLabels}\n",
    "df = pd.DataFrame(data=data)\n",
    "sns.set_palette(\"viridis\")\n",
    "sns.FacetGrid(df,hue='Labels',height=7).map(plt.scatter,\n",
    "                              'FHalf',\n",
    "                              'SHalf').add_legend()\n",
    "plt.savefig('191874.png')\n",
    "plt.show()\n"
   ]
  },
  {
   "cell_type": "markdown",
   "metadata": {},
   "source": [
    "## Prediction"
   ]
  },
  {
   "cell_type": "code",
   "execution_count": 8,
   "metadata": {},
   "outputs": [],
   "source": [
    "from sklearn.linear_model import LinearRegression\n",
    "from sklearn.svm import SVC\n",
    "from sklearn.metrics import classification_report, confusion_matrix\n",
    "from sklearn import metrics\n",
    "\n",
    "\n",
    "svc = SVC(kernel='linear',gamma=0.001,C=1)\n",
    "svc.fit(X_Train, Y_Train)\n",
    "prediction_Model = svc.predict(X_Test)\n"
   ]
  },
  {
   "cell_type": "code",
   "execution_count": 9,
   "metadata": {},
   "outputs": [
    {
     "name": "stdout",
     "output_type": "stream",
     "text": [
      "Confusion Matrix\n",
      "[[15  0  0  0]\n",
      " [ 0 15  0  0]\n",
      " [ 0  0 15  0]\n",
      " [ 0  0  0 15]]\n",
      "Classification Report\n",
      "              precision    recall  f1-score   support\n",
      "\n",
      "           0       1.00      1.00      1.00        15\n",
      "           1       1.00      1.00      1.00        15\n",
      "           2       1.00      1.00      1.00        15\n",
      "           3       1.00      1.00      1.00        15\n",
      "\n",
      "    accuracy                           1.00        60\n",
      "   macro avg       1.00      1.00      1.00        60\n",
      "weighted avg       1.00      1.00      1.00        60\n",
      "\n"
     ]
    }
   ],
   "source": [
    "print('Confusion Matrix')\n",
    "print(confusion_matrix(Y_Test,prediction_Model))\n",
    "print('Classification Report')\n",
    "print(classification_report(Y_Test,prediction_Model))"
   ]
  },
  {
   "cell_type": "code",
   "execution_count": 10,
   "metadata": {},
   "outputs": [
    {
     "name": "stdout",
     "output_type": "stream",
     "text": [
      "Accuracy: 100.0%\n"
     ]
    }
   ],
   "source": [
    "print(\"Accuracy:\",str(round(metrics.accuracy_score(Y_Test, prediction_Model),3)*100)+'%')\n"
   ]
  },
  {
   "cell_type": "code",
   "execution_count": 11,
   "metadata": {},
   "outputs": [
    {
     "data": {
      "text/plain": [
       "['i19874_Saved.sav']"
      ]
     },
     "execution_count": 11,
     "metadata": {},
     "output_type": "execute_result"
    }
   ],
   "source": [
    "## Saving model\n",
    "\n",
    "import joblib\n",
    "filename = 'i19874_Saved.sav'\n",
    "joblib.dump(prediction_Model, filename)\n"
   ]
  },
  {
   "cell_type": "code",
   "execution_count": 12,
   "metadata": {},
   "outputs": [
    {
     "name": "stdout",
     "output_type": "stream",
     "text": [
      "              precision    recall  f1-score   support\n",
      "\n",
      "           0       1.00      1.00      1.00        15\n",
      "           1       1.00      1.00      1.00        15\n",
      "           2       1.00      1.00      1.00        15\n",
      "           3       1.00      1.00      1.00        15\n",
      "\n",
      "    accuracy                           1.00        60\n",
      "   macro avg       1.00      1.00      1.00        60\n",
      "weighted avg       1.00      1.00      1.00        60\n",
      "\n"
     ]
    }
   ],
   "source": [
    "loaded_model = joblib.load(filename)\n",
    "print(classification_report(Y_Test,loaded_model))"
   ]
  },
  {
   "cell_type": "markdown",
   "metadata": {},
   "source": [
    "## Predict file"
   ]
  },
  {
   "cell_type": "code",
   "execution_count": 13,
   "metadata": {},
   "outputs": [],
   "source": [
    "def predict(File):\n",
    "    featureList = []\n",
    "    x,sr = librosa.load(File)\n",
    "    #features mean\n",
    "    MeanMfcc = np.mean(librosa.feature.mfcc(y=x,sr=sr,n_mfcc=47),axis=1)\n",
    "\n",
    "    MeanMelSpectrum = np.mean(librosa.feature.melspectrogram(y=x,sr=sr),axis=1)\n",
    "\n",
    "    MeanChroma = np.mean(librosa.feature.chroma_stft(x, sr=sr),axis=1)\n",
    "\n",
    "    S = np.abs(librosa.stft(x))\n",
    "    MeanContrast = np.mean(librosa.feature.spectral_contrast(S=S, sr=sr),axis=1)\n",
    "    #feature\n",
    "    featureList.append(np.hstack((MeanMfcc,MeanMelSpectrum,MeanChroma,\n",
    "                                MeanContrast)))\n",
    "    \n",
    "    featureList = pd.DataFrame(featureList)\n",
    "    \n",
    "    Dict ={'Sad':'3','Angry':'0','Happy':'1','Neutral':'2'}\n",
    "    Dict = {v: k for k, v in Dict.items()}    \n",
    "    predict = svc.predict(featureList)\n",
    "    \n",
    "    return Dict[str(predict[0])]"
   ]
  },
  {
   "cell_type": "code",
   "execution_count": 14,
   "metadata": {},
   "outputs": [
    {
     "name": "stdout",
     "output_type": "stream",
     "text": [
      "Audio is: Sad\n"
     ]
    }
   ],
   "source": [
    "print('Audio is:',predict('./SERDataset/Train/Sad/SM25_F34_S084.wav'))"
   ]
  },
  {
   "cell_type": "code",
   "execution_count": 15,
   "metadata": {},
   "outputs": [
    {
     "name": "stdout",
     "output_type": "stream",
     "text": [
      "Audio is: Happy\n"
     ]
    }
   ],
   "source": [
    "print('Audio is:',predict('./SERDataset/Test/Happy/SM7_F22_H094.wav'))"
   ]
  },
  {
   "cell_type": "code",
   "execution_count": null,
   "metadata": {},
   "outputs": [],
   "source": []
  }
 ],
 "metadata": {
  "kernelspec": {
   "display_name": "Python 3",
   "language": "python",
   "name": "python3"
  },
  "language_info": {
   "codemirror_mode": {
    "name": "ipython",
    "version": 3
   },
   "file_extension": ".py",
   "mimetype": "text/x-python",
   "name": "python",
   "nbconvert_exporter": "python",
   "pygments_lexer": "ipython3",
   "version": "3.6.9"
  }
 },
 "nbformat": 4,
 "nbformat_minor": 2
}
